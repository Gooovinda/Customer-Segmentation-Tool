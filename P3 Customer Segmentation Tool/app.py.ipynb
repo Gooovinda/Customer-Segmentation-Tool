{
 "cells": [
  {
   "cell_type": "code",
   "execution_count": 2,
   "id": "b476ee41",
   "metadata": {},
   "outputs": [
    {
     "name": "stderr",
     "output_type": "stream",
     "text": [
      "2025-07-19 18:50:03.949 Thread 'MainThread': missing ScriptRunContext! This warning can be ignored when running in bare mode.\n",
      "2025-07-19 18:50:03.949 Thread 'MainThread': missing ScriptRunContext! This warning can be ignored when running in bare mode.\n",
      "2025-07-19 18:50:03.954 Thread 'MainThread': missing ScriptRunContext! This warning can be ignored when running in bare mode.\n",
      "2025-07-19 18:50:03.966 Thread 'MainThread': missing ScriptRunContext! This warning can be ignored when running in bare mode.\n",
      "2025-07-19 18:50:03.966 No runtime found, using MemoryCacheStorageManager\n",
      "2025-07-19 18:50:03.985 No runtime found, using MemoryCacheStorageManager\n",
      "2025-07-19 18:50:03.988 Thread 'MainThread': missing ScriptRunContext! This warning can be ignored when running in bare mode.\n",
      "2025-07-19 18:50:03.988 Thread 'MainThread': missing ScriptRunContext! This warning can be ignored when running in bare mode.\n",
      "2025-07-19 18:50:03.995 Thread 'MainThread': missing ScriptRunContext! This warning can be ignored when running in bare mode.\n",
      "2025-07-19 18:50:03.995 Thread 'MainThread': missing ScriptRunContext! This warning can be ignored when running in bare mode.\n",
      "2025-07-19 18:50:04.084 Thread 'MainThread': missing ScriptRunContext! This warning can be ignored when running in bare mode.\n",
      "2025-07-19 18:50:04.084 Thread 'MainThread': missing ScriptRunContext! This warning can be ignored when running in bare mode.\n",
      "2025-07-19 18:50:04.100 Thread 'MainThread': missing ScriptRunContext! This warning can be ignored when running in bare mode.\n",
      "2025-07-19 18:50:04.101 Thread 'MainThread': missing ScriptRunContext! This warning can be ignored when running in bare mode.\n",
      "2025-07-19 18:50:04.105 Thread 'MainThread': missing ScriptRunContext! This warning can be ignored when running in bare mode.\n",
      "2025-07-19 18:50:04.109 Thread 'MainThread': missing ScriptRunContext! This warning can be ignored when running in bare mode.\n",
      "2025-07-19 18:50:04.116 Thread 'MainThread': missing ScriptRunContext! This warning can be ignored when running in bare mode.\n",
      "2025-07-19 18:50:04.120 Thread 'MainThread': missing ScriptRunContext! This warning can be ignored when running in bare mode.\n",
      "2025-07-19 18:50:04.134 Thread 'MainThread': missing ScriptRunContext! This warning can be ignored when running in bare mode.\n",
      "2025-07-19 18:50:04.139 Thread 'MainThread': missing ScriptRunContext! This warning can be ignored when running in bare mode.\n",
      "2025-07-19 18:50:04.139 Thread 'MainThread': missing ScriptRunContext! This warning can be ignored when running in bare mode.\n",
      "2025-07-19 18:50:04.139 Thread 'MainThread': missing ScriptRunContext! This warning can be ignored when running in bare mode.\n",
      "2025-07-19 18:50:04.155 Thread 'MainThread': missing ScriptRunContext! This warning can be ignored when running in bare mode.\n",
      "2025-07-19 18:50:04.155 Thread 'MainThread': missing ScriptRunContext! This warning can be ignored when running in bare mode.\n",
      "2025-07-19 18:50:04.155 Thread 'MainThread': missing ScriptRunContext! This warning can be ignored when running in bare mode.\n",
      "2025-07-19 18:50:04.244 Thread 'MainThread': missing ScriptRunContext! This warning can be ignored when running in bare mode.\n",
      "2025-07-19 18:50:04.244 Thread 'MainThread': missing ScriptRunContext! This warning can be ignored when running in bare mode.\n",
      "2025-07-19 18:50:04.251 Thread 'MainThread': missing ScriptRunContext! This warning can be ignored when running in bare mode.\n",
      "2025-07-19 18:50:04.251 Thread 'MainThread': missing ScriptRunContext! This warning can be ignored when running in bare mode.\n",
      "2025-07-19 18:50:04.251 Thread 'MainThread': missing ScriptRunContext! This warning can be ignored when running in bare mode.\n",
      "2025-07-19 18:50:04.251 Thread 'MainThread': missing ScriptRunContext! This warning can be ignored when running in bare mode.\n",
      "2025-07-19 18:50:04.284 Thread 'MainThread': missing ScriptRunContext! This warning can be ignored when running in bare mode.\n",
      "2025-07-19 18:50:04.291 Thread 'MainThread': missing ScriptRunContext! This warning can be ignored when running in bare mode.\n",
      "2025-07-19 18:50:04.291 Thread 'MainThread': missing ScriptRunContext! This warning can be ignored when running in bare mode.\n",
      "2025-07-19 18:50:04.294 Thread 'MainThread': missing ScriptRunContext! This warning can be ignored when running in bare mode.\n",
      "2025-07-19 18:50:04.297 Thread 'MainThread': missing ScriptRunContext! This warning can be ignored when running in bare mode.\n",
      "2025-07-19 18:50:04.297 Thread 'MainThread': missing ScriptRunContext! This warning can be ignored when running in bare mode.\n",
      "2025-07-19 18:50:05.121 Thread 'MainThread': missing ScriptRunContext! This warning can be ignored when running in bare mode.\n",
      "2025-07-19 18:50:05.128 Thread 'MainThread': missing ScriptRunContext! This warning can be ignored when running in bare mode.\n",
      "2025-07-19 18:50:05.132 Thread 'MainThread': missing ScriptRunContext! This warning can be ignored when running in bare mode.\n",
      "2025-07-19 18:50:05.134 Thread 'MainThread': missing ScriptRunContext! This warning can be ignored when running in bare mode.\n",
      "2025-07-19 18:50:05.138 Thread 'MainThread': missing ScriptRunContext! This warning can be ignored when running in bare mode.\n",
      "2025-07-19 18:50:05.144 Thread 'MainThread': missing ScriptRunContext! This warning can be ignored when running in bare mode.\n",
      "2025-07-19 18:50:05.144 Thread 'MainThread': missing ScriptRunContext! This warning can be ignored when running in bare mode.\n",
      "2025-07-19 18:50:05.144 Thread 'MainThread': missing ScriptRunContext! This warning can be ignored when running in bare mode.\n",
      "2025-07-19 18:50:05.153 Thread 'MainThread': missing ScriptRunContext! This warning can be ignored when running in bare mode.\n",
      "2025-07-19 18:50:05.154 Thread 'MainThread': missing ScriptRunContext! This warning can be ignored when running in bare mode.\n",
      "2025-07-19 18:50:05.154 Thread 'MainThread': missing ScriptRunContext! This warning can be ignored when running in bare mode.\n"
     ]
    },
    {
     "data": {
      "text/plain": [
       "DeltaGenerator()"
      ]
     },
     "execution_count": 2,
     "metadata": {},
     "output_type": "execute_result"
    }
   ],
   "source": [
    "import streamlit as st\n",
    "import pandas as pd\n",
    "import plotly.express as px\n",
    "\n",
    "# Page title\n",
    "st.set_page_config(page_title=\"Customer Segmentation Tool\", layout=\"wide\")\n",
    "st.title(\"📊 Customer Segmentation Dashboard\")\n",
    "\n",
    "# Load the clustered data\n",
    "@st.cache_data\n",
    "def load_data():\n",
    "    return pd.read_csv(\"rfm_clustered.csv\")\n",
    "\n",
    "df = load_data()\n",
    "\n",
    "# Sidebar Filters\n",
    "st.sidebar.header(\"Filter Options\")\n",
    "selected_cluster = st.sidebar.multiselect(\"Select Cluster(s)\", options=df[\"Cluster\"].unique(), default=df[\"Cluster\"].unique())\n",
    "\n",
    "# Filter data\n",
    "filtered_df = df[df[\"Cluster\"].isin(selected_cluster)]\n",
    "\n",
    "# Show table\n",
    "st.subheader(\"📋 Filtered Customer Segments\")\n",
    "st.dataframe(filtered_df, use_container_width=True)\n",
    "\n",
    "# Summary statistics\n",
    "st.subheader(\"📈 Cluster-wise Averages\")\n",
    "cluster_summary = df.groupby(\"Cluster\")[[\"Recency\", \"Frequency\", \"Monetary\"]].mean().round(2).reset_index()\n",
    "st.dataframe(cluster_summary)\n",
    "\n",
    "# Plotly Bar Chart\n",
    "st.subheader(\"📉 Cluster Profile Visualization\")\n",
    "fig = px.bar(cluster_summary.melt(id_vars=\"Cluster\"),\n",
    "             x=\"variable\", y=\"value\", color=\"Cluster\",\n",
    "             barmode=\"group\", height=400,\n",
    "             title=\"Average RFM Values per Cluster\")\n",
    "st.plotly_chart(fig, use_container_width=True)\n",
    "\n",
    "# Footer\n",
    "st.markdown(\"---\")\n",
    "st.markdown(\"Built with ❤️ using Streamlit\")\n"
   ]
  },
  {
   "cell_type": "code",
   "execution_count": null,
   "id": "514c8aa0",
   "metadata": {},
   "outputs": [],
   "source": []
  }
 ],
 "metadata": {
  "kernelspec": {
   "display_name": "Python 3 (ipykernel)",
   "language": "python",
   "name": "python3"
  },
  "language_info": {
   "codemirror_mode": {
    "name": "ipython",
    "version": 3
   },
   "file_extension": ".py",
   "mimetype": "text/x-python",
   "name": "python",
   "nbconvert_exporter": "python",
   "pygments_lexer": "ipython3",
   "version": "3.10.9"
  }
 },
 "nbformat": 4,
 "nbformat_minor": 5
}
